{
 "cells": [
  {
   "cell_type": "code",
   "execution_count": 1,
   "metadata": {},
   "outputs": [
    {
     "name": "stdout",
     "output_type": "stream",
     "text": [
      "Collecting textblob\n",
      "  Downloading textblob-0.18.0.post0-py3-none-any.whl.metadata (4.5 kB)\n",
      "Requirement already satisfied: nltk>=3.8 in c:\\users\\parya\\appdata\\local\\packages\\pythonsoftwarefoundation.python.3.11_qbz5n2kfra8p0\\localcache\\local-packages\\python311\\site-packages (from textblob) (3.8.1)\n",
      "Requirement already satisfied: click in c:\\users\\parya\\appdata\\local\\packages\\pythonsoftwarefoundation.python.3.11_qbz5n2kfra8p0\\localcache\\local-packages\\python311\\site-packages (from nltk>=3.8->textblob) (8.1.7)\n",
      "Requirement already satisfied: joblib in c:\\users\\parya\\appdata\\local\\packages\\pythonsoftwarefoundation.python.3.11_qbz5n2kfra8p0\\localcache\\local-packages\\python311\\site-packages (from nltk>=3.8->textblob) (1.4.2)\n",
      "Requirement already satisfied: regex>=2021.8.3 in c:\\users\\parya\\appdata\\local\\packages\\pythonsoftwarefoundation.python.3.11_qbz5n2kfra8p0\\localcache\\local-packages\\python311\\site-packages (from nltk>=3.8->textblob) (2024.5.15)\n",
      "Requirement already satisfied: tqdm in c:\\users\\parya\\appdata\\local\\packages\\pythonsoftwarefoundation.python.3.11_qbz5n2kfra8p0\\localcache\\local-packages\\python311\\site-packages (from nltk>=3.8->textblob) (4.66.4)\n",
      "Requirement already satisfied: colorama in c:\\users\\parya\\appdata\\local\\packages\\pythonsoftwarefoundation.python.3.11_qbz5n2kfra8p0\\localcache\\local-packages\\python311\\site-packages (from click->nltk>=3.8->textblob) (0.4.6)\n",
      "Downloading textblob-0.18.0.post0-py3-none-any.whl (626 kB)\n",
      "   ---------------------------------------- 0.0/626.3 kB ? eta -:--:--\n",
      "    --------------------------------------- 10.2/626.3 kB ? eta -:--:--\n",
      "    --------------------------------------- 10.2/626.3 kB ? eta -:--:--\n",
      "   -- ------------------------------------ 41.0/626.3 kB 326.8 kB/s eta 0:00:02\n",
      "   ----- --------------------------------- 81.9/626.3 kB 508.4 kB/s eta 0:00:02\n",
      "   ------ ------------------------------- 112.6/626.3 kB 544.7 kB/s eta 0:00:01\n",
      "   ----------- -------------------------- 194.6/626.3 kB 784.3 kB/s eta 0:00:01\n",
      "   ------------------- -------------------- 307.2/626.3 kB 1.1 MB/s eta 0:00:01\n",
      "   --------------------- ------------------ 337.9/626.3 kB 1.1 MB/s eta 0:00:01\n",
      "   --------------------- ------------------ 337.9/626.3 kB 1.1 MB/s eta 0:00:01\n",
      "   -------------------------- ------------- 419.8/626.3 kB 1.0 MB/s eta 0:00:01\n",
      "   -------------------------- ------------- 419.8/626.3 kB 1.0 MB/s eta 0:00:01\n",
      "   -------------------------- ------------- 419.8/626.3 kB 1.0 MB/s eta 0:00:01\n",
      "   ----------------------------- -------- 491.5/626.3 kB 854.8 kB/s eta 0:00:01\n",
      "   ----------------------------- -------- 491.5/626.3 kB 854.8 kB/s eta 0:00:01\n",
      "   ----------------------------- -------- 491.5/626.3 kB 854.8 kB/s eta 0:00:01\n",
      "   ----------------------------- -------- 491.5/626.3 kB 854.8 kB/s eta 0:00:01\n",
      "   -------------------------------------  624.6/626.3 kB 854.5 kB/s eta 0:00:01\n",
      "   -------------------------------------  624.6/626.3 kB 854.5 kB/s eta 0:00:01\n",
      "   -------------------------------------- 626.3/626.3 kB 757.8 kB/s eta 0:00:00\n",
      "Installing collected packages: textblob\n",
      "Successfully installed textblob-0.18.0.post0\n",
      "Note: you may need to restart the kernel to use updated packages.\n"
     ]
    }
   ],
   "source": [
    "pip install textblob"
   ]
  },
  {
   "cell_type": "code",
   "execution_count": 2,
   "metadata": {},
   "outputs": [],
   "source": [
    "from textblob import TextBlob\n",
    "import pandas as pd"
   ]
  },
  {
   "cell_type": "code",
   "execution_count": 3,
   "metadata": {},
   "outputs": [],
   "source": [
    "def get_textblob_sentiment(text):\n",
    "    blob = TextBlob(text)\n",
    "    polarity = blob.sentiment.polarity\n",
    "    if polarity > 0:\n",
    "        return 'positive'\n",
    "    elif polarity < 0:\n",
    "        return 'negative'\n",
    "    else:\n",
    "        return 'neutral'"
   ]
  },
  {
   "cell_type": "code",
   "execution_count": 4,
   "metadata": {},
   "outputs": [],
   "source": [
    "df = pd.read_csv('../database/processed_headlines.csv')\n",
    "df['TextBlob_Sentiment'] = df['Processed_Headline'].apply(get_textblob_sentiment)\n",
    "df.to_csv('textblob.csv', index=False)"
   ]
  }
 ],
 "metadata": {
  "kernelspec": {
   "display_name": "Python 3",
   "language": "python",
   "name": "python3"
  },
  "language_info": {
   "codemirror_mode": {
    "name": "ipython",
    "version": 3
   },
   "file_extension": ".py",
   "mimetype": "text/x-python",
   "name": "python",
   "nbconvert_exporter": "python",
   "pygments_lexer": "ipython3",
   "version": "3.11.9"
  }
 },
 "nbformat": 4,
 "nbformat_minor": 2
}
