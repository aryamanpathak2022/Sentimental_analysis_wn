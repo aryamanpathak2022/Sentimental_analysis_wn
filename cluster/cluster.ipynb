{
  "nbformat": 4,
  "nbformat_minor": 0,
  "metadata": {
    "colab": {
      "provenance": [],
      "mount_file_id": "1_W1FHjuxk5DAvrcVp4qE2IP41TFUUw45",
      "authorship_tag": "ABX9TyN68akG75TUyIDOVbbpvsZL",
      "include_colab_link": true
    },
    "kernelspec": {
      "name": "python3",
      "display_name": "Python 3"
    },
    "language_info": {
      "name": "python"
    }
  },
  "cells": [
    {
      "cell_type": "markdown",
      "metadata": {
        "id": "view-in-github",
        "colab_type": "text"
      },
      "source": [
        "<a href=\"https://colab.research.google.com/github/aryamanpathak2022/Sentimental_analysis_wn/blob/main/cluster/cluster.ipynb\" target=\"_parent\"><img src=\"https://colab.research.google.com/assets/colab-badge.svg\" alt=\"Open In Colab\"/></a>"
      ]
    },
    {
      "cell_type": "code",
      "source": [],
      "metadata": {
        "id": "aAQJ4hnko_DQ"
      },
      "execution_count": null,
      "outputs": []
    },
    {
      "cell_type": "code",
      "source": [
        "import pandas as pd\n",
        "from sklearn.feature_extraction.text import TfidfVectorizer\n",
        "from sklearn.decomposition import LatentDirichletAllocation\n",
        "from sklearn.decomposition import NMF\n",
        "from sklearn.decomposition import SparsePCA\n",
        "from sklearn.decomposition import TruncatedSVD\n",
        "from sklearn.cluster import KMeans\n",
        "from sklearn.cluster import AgglomerativeClustering\n",
        "# from afinn import Afinn\n",
        "import matplotlib.pyplot as plt\n",
        "import nltk\n",
        "from nltk.sentiment.vader import SentimentIntensityAnalyzer\n",
        "from collections import Counter\n",
        "from sklearn.feature_extraction.text import TfidfVectorizer\n",
        "import spacy as spacy\n",
        "import numpy as np\n",
        "from gensim import corpora, models\n",
        "from textblob import TextBlob"
      ],
      "metadata": {
        "id": "YYYxBMSLo9PM"
      },
      "execution_count": 70,
      "outputs": []
    },
    {
      "cell_type": "code",
      "execution_count": 46,
      "metadata": {
        "id": "T4LFbAhcnZRV"
      },
      "outputs": [],
      "source": [
        "# Load Data:\n",
        "\n",
        "data = pd.read_csv(\"./drive/MyDrive/Sentiment_analysis/processed_Articles.csv\")\n",
        "text_column = \"Processed_Article\"  # Adjust based on your column name\n",
        "texts = data[text_column]\n",
        "headings=data[\"Headline\"]"
      ]
    },
    {
      "cell_type": "code",
      "source": [
        "nltk.download('punkt')\n",
        "nltk.download('averaged_perceptron_tagger')\n",
        "nltk.download('maxent_ne_chunker')\n",
        "nltk.download('words')\n",
        "nltk.download('vader_lexicon')\n"
      ],
      "metadata": {
        "colab": {
          "base_uri": "https://localhost:8080/"
        },
        "id": "manWXMkhnq8B",
        "outputId": "2ea4f9ba-e9a8-4da7-db81-89ca035ff173"
      },
      "execution_count": 13,
      "outputs": [
        {
          "output_type": "stream",
          "name": "stderr",
          "text": [
            "[nltk_data] Downloading package punkt to /root/nltk_data...\n",
            "[nltk_data]   Package punkt is already up-to-date!\n",
            "[nltk_data] Downloading package averaged_perceptron_tagger to\n",
            "[nltk_data]     /root/nltk_data...\n",
            "[nltk_data]   Package averaged_perceptron_tagger is already up-to-\n",
            "[nltk_data]       date!\n",
            "[nltk_data] Downloading package maxent_ne_chunker to\n",
            "[nltk_data]     /root/nltk_data...\n",
            "[nltk_data]   Unzipping chunkers/maxent_ne_chunker.zip.\n",
            "[nltk_data] Downloading package words to /root/nltk_data...\n",
            "[nltk_data]   Unzipping corpora/words.zip.\n",
            "[nltk_data] Downloading package vader_lexicon to /root/nltk_data...\n"
          ]
        },
        {
          "output_type": "execute_result",
          "data": {
            "text/plain": [
              "True"
            ]
          },
          "metadata": {},
          "execution_count": 13
        }
      ]
    },
    {
      "cell_type": "code",
      "source": [
        "vectorizer = TfidfVectorizer()  # Adjust max_features as needed\n",
        "features = vectorizer.fit_transform(texts)\n"
      ],
      "metadata": {
        "id": "R87S-G47v3fs"
      },
      "execution_count": 20,
      "outputs": []
    },
    {
      "cell_type": "code",
      "source": [
        "num_topics = 100  # Adjust num_topics based on domain and desired granularity\n",
        "lda = LatentDirichletAllocation(n_components=num_topics, random_state=42)\n",
        "# Train the model\n",
        "lda.fit(features)\n",
        "\n",
        "# Loop through topics and print topic description and top words\n",
        "for i, topic in enumerate(lda.components_):\n",
        "  # Give each topic a simple description based on top words (optional)\n",
        "  topic_description = \" \".join([vectorizer.get_feature_names_out()[i] for i in topic.argsort()[-3:]])\n",
        "  print(f\"Topic #{i}: {topic_description}\")\n",
        "  print([vectorizer.get_feature_names_out()[i] for i in topic.argsort()[-5:]])\n",
        "  print(\"\\n\")\n",
        "\n",
        "# Get topic distribution for all documents (already done in your code)\n",
        "topic_distributions = lda.transform(features)\n"
      ],
      "metadata": {
        "colab": {
          "base_uri": "https://localhost:8080/"
        },
        "collapsed": true,
        "id": "15aNzqI8wTfN",
        "outputId": "13fa40aa-a9ae-47ab-b301-2e4b62836225"
      },
      "execution_count": 27,
      "outputs": [
        {
          "output_type": "stream",
          "name": "stdout",
          "text": [
            "Topic #0: favorite fascist zuma\n",
            "['favored', 'favoring', 'favorite', 'fascist', 'zuma']\n",
            "\n",
            "\n",
            "Topic #1: using without thing\n",
            "['never', 'know', 'using', 'without', 'thing']\n",
            "\n",
            "\n",
            "Topic #2: want still group\n",
            "['gupta', 'united', 'want', 'still', 'group']\n",
            "\n",
            "\n",
            "Topic #3: favorite fascist zuma\n",
            "['favored', 'favoring', 'favorite', 'fascist', 'zuma']\n",
            "\n",
            "\n",
            "Topic #4: experiencing weather extreme\n",
            "['meteorological', 'heatwave', 'experiencing', 'weather', 'extreme']\n",
            "\n",
            "\n",
            "Topic #5: polgreen essay audio\n",
            "['lydia', 'transcript', 'polgreen', 'essay', 'audio']\n",
            "\n",
            "\n",
            "Topic #6: engineer jones netravalkar\n",
            "['qualified', 'computer', 'engineer', 'jones', 'netravalkar']\n",
            "\n",
            "\n",
            "Topic #7: jacob karachi jacobabad\n",
            "['sahiba', 'quetta', 'jacob', 'karachi', 'jacobabad']\n",
            "\n",
            "\n",
            "Topic #8: blaze roy little\n",
            "['baby', 'supply', 'blaze', 'roy', 'little']\n",
            "\n",
            "\n",
            "Topic #9: airline feature indigo\n",
            "['aboard', 'female', 'airline', 'feature', 'indigo']\n",
            "\n",
            "\n",
            "Topic #10: election modi india\n",
            "['indian', 'country', 'election', 'modi', 'india']\n",
            "\n",
            "\n",
            "Topic #11: blackout grid airconditioning\n",
            "['complication', 'magotra', 'blackout', 'grid', 'airconditioning']\n",
            "\n",
            "\n",
            "Topic #12: educated fiscal gdp\n",
            "['economist', 'amajuri', 'educated', 'fiscal', 'gdp']\n",
            "\n",
            "\n",
            "Topic #13: conditioner ac cooling\n",
            "['ahmed', 'dhaka', 'conditioner', 'ac', 'cooling']\n",
            "\n",
            "\n",
            "Topic #14: former investor mumbai\n",
            "['ago', 'came', 'former', 'investor', 'mumbai']\n",
            "\n",
            "\n",
            "Topic #15: remission bangalore bano\n",
            "['shape', 'august', 'remission', 'bangalore', 'bano']\n",
            "\n",
            "\n",
            "Topic #16: disaster muzaffarnagar crash\n",
            "['gdp', 'carriage', 'disaster', 'muzaffarnagar', 'crash']\n",
            "\n",
            "\n",
            "Topic #17: cow contestant idol\n",
            "['looked', 'markey', 'cow', 'contestant', 'idol']\n",
            "\n",
            "\n",
            "Topic #18: en la de\n",
            "['que', 'el', 'en', 'la', 'de']\n",
            "\n",
            "\n",
            "Topic #19: emerald kodali jewel\n",
            "['joshi', 'necklace', 'emerald', 'kodali', 'jewel']\n",
            "\n",
            "\n",
            "Topic #20: norway recognize palestinian\n",
            "['ireland', 'spain', 'norway', 'recognize', 'palestinian']\n",
            "\n",
            "\n",
            "Topic #21: sony diaspora deepfakes\n",
            "['zee', 'abroad', 'sony', 'diaspora', 'deepfakes']\n",
            "\n",
            "\n",
            "Topic #22: communiqu turkey meloni\n",
            "['abortion', 'pope', 'communiqu', 'turkey', 'meloni']\n",
            "\n",
            "\n",
            "Topic #23: zee entertainment netflix\n",
            "['brahmin', 'streaming', 'zee', 'entertainment', 'netflix']\n",
            "\n",
            "\n",
            "Topic #24: banu quota transgender\n",
            "['petitioned', 'horizontal', 'banu', 'quota', 'transgender']\n",
            "\n",
            "\n",
            "Topic #25: migration workforce tata\n",
            "['dormitory', 'sripada', 'migration', 'workforce', 'tata']\n",
            "\n",
            "\n",
            "Topic #26: hd governance revanna\n",
            "['reddy', 'murder', 'hd', 'governance', 'revanna']\n",
            "\n",
            "\n",
            "Topic #27: trans susannah lgbtq\n",
            "['herbert', 'grandfather', 'trans', 'susannah', 'lgbtq']\n",
            "\n",
            "\n",
            "Topic #28: tournament cup cricket\n",
            "['sport', 'team', 'tournament', 'cup', 'cricket']\n",
            "\n",
            "\n",
            "Topic #29: storytelling journalism audio\n",
            "['io', 'theheadlinesnytimescom', 'storytelling', 'journalism', 'audio']\n",
            "\n",
            "\n",
            "Topic #30: wiping bluechip wood\n",
            "['sharply', 'bounce', 'wiping', 'bluechip', 'wood']\n",
            "\n",
            "\n",
            "Topic #31: raisi iranian iran\n",
            "['ebrahim', 'helicopter', 'raisi', 'iranian', 'iran']\n",
            "\n",
            "\n",
            "Topic #32: remal cyclone bangladesh\n",
            "['wind', 'rain', 'remal', 'cyclone', 'bangladesh']\n",
            "\n",
            "\n",
            "Topic #33: mariam daughter salam\n",
            "['adityanaths', 'salams', 'mariam', 'daughter', 'salam']\n",
            "\n",
            "\n",
            "Topic #34: aggregate frontrunner forecast\n",
            "['dearth', 'flouting', 'aggregate', 'frontrunner', 'forecast']\n",
            "\n",
            "\n",
            "Topic #35: usa employment casting\n",
            "['stage', 'booth', 'usa', 'employment', 'casting']\n",
            "\n",
            "\n",
            "Topic #36: favorite fascist zuma\n",
            "['favored', 'favoring', 'favorite', 'fascist', 'zuma']\n",
            "\n",
            "\n",
            "Topic #37: ongoing fighting russian\n",
            "['army', 'conflict', 'ongoing', 'fighting', 'russian']\n",
            "\n",
            "\n",
            "Topic #38: sky prosecutor match\n",
            "['arcade', 'rajkot', 'sky', 'prosecutor', 'match']\n",
            "\n",
            "\n",
            "Topic #39: idf rafah palestinian\n",
            "['poster', 'colourful', 'idf', 'rafah', 'palestinian']\n",
            "\n",
            "\n",
            "Topic #40: favorite fascist zuma\n",
            "['favored', 'favoring', 'favorite', 'fascist', 'zuma']\n",
            "\n",
            "\n",
            "Topic #41: byelection wayanad storm\n",
            "['tropical', 'coastal', 'byelection', 'wayanad', 'storm']\n",
            "\n",
            "\n",
            "Topic #42: favorite fascist zuma\n",
            "['favored', 'favoring', 'favorite', 'fascist', 'zuma']\n",
            "\n",
            "\n",
            "Topic #43: company day vote\n",
            "['poll', 'israel', 'company', 'day', 'vote']\n",
            "\n",
            "\n",
            "Topic #44: favorite fascist zuma\n",
            "['favored', 'favoring', 'favorite', 'fascist', 'zuma']\n",
            "\n",
            "\n",
            "Topic #45: midst sabha lok\n",
            "['indicated', 'extend', 'midst', 'sabha', 'lok']\n",
            "\n",
            "\n",
            "Topic #46: favorite fascist zuma\n",
            "['favored', 'favoring', 'favorite', 'fascist', 'zuma']\n",
            "\n",
            "\n",
            "Topic #47: favorite fascist zuma\n",
            "['favored', 'favoring', 'favorite', 'fascist', 'zuma']\n",
            "\n",
            "\n",
            "Topic #48: negative pushback nooruddin\n",
            "['inflammatory', 'georgetown', 'negative', 'pushback', 'nooruddin']\n",
            "\n",
            "\n",
            "Topic #49: audit oxygen cylinder\n",
            "['bhardwaj', 'neonatal', 'audit', 'oxygen', 'cylinder']\n",
            "\n",
            "\n",
            "Topic #50: elect booth manipur\n",
            "['roadshow', 'ethnic', 'elect', 'booth', 'manipur']\n",
            "\n",
            "\n",
            "Topic #51: summoned diplomacy miller\n",
            "['cripple', 'declined', 'summoned', 'diplomacy', 'miller']\n",
            "\n",
            "\n",
            "Topic #52: deveshwar lacking circumstance\n",
            "['korea', 'subramanian', 'deveshwar', 'lacking', 'circumstance']\n",
            "\n",
            "\n",
            "Topic #53: bird witch rabha\n",
            "['forecast', 'crash', 'bird', 'witch', 'rabha']\n",
            "\n",
            "\n",
            "Topic #54: favorite fascist zuma\n",
            "['favored', 'favoring', 'favorite', 'fascist', 'zuma']\n",
            "\n",
            "\n",
            "Topic #55: who dadar wouldnt\n",
            "['aware', 'highlight', 'who', 'dadar', 'wouldnt']\n",
            "\n",
            "\n",
            "Topic #56: favorite fascist zuma\n",
            "['favored', 'favoring', 'favorite', 'fascist', 'zuma']\n",
            "\n",
            "\n",
            "Topic #57: reel khamenei brahmin\n",
            "['jadhav', 'dalits', 'reel', 'khamenei', 'brahmin']\n",
            "\n",
            "\n",
            "Topic #58: fire bbc minister\n",
            "['time', 'external', 'fire', 'bbc', 'minister']\n",
            "\n",
            "\n",
            "Topic #59: innovation cantor teen\n",
            "['petrochemical', 'indiapakistan', 'innovation', 'cantor', 'teen']\n",
            "\n",
            "\n",
            "Topic #60: cannes filmmaker film\n",
            "['kapadias', 'festival', 'cannes', 'filmmaker', 'film']\n",
            "\n",
            "\n",
            "Topic #61: score match kuwait\n",
            "['keralas', 'defeat', 'score', 'match', 'kuwait']\n",
            "\n",
            "\n",
            "Topic #62: degree voter temperature\n",
            "['pradesh', 'alliance', 'degree', 'voter', 'temperature']\n",
            "\n",
            "\n",
            "Topic #63: saha chauhan hotter\n",
            "['kumari', 'sleeping', 'saha', 'chauhan', 'hotter']\n",
            "\n",
            "\n",
            "Topic #64: favorite fascist zuma\n",
            "['favored', 'favoring', 'favorite', 'fascist', 'zuma']\n",
            "\n",
            "\n",
            "Topic #65: title wta witek\n",
            "['tournament', 'im', 'title', 'wta', 'witek']\n",
            "\n",
            "\n",
            "Topic #66: member community cnn\n",
            "['child', 'rule', 'member', 'community', 'cnn']\n",
            "\n",
            "\n",
            "Topic #67: patel bhargava rajkot\n",
            "['investigation', 'underway', 'patel', 'bhargava', 'rajkot']\n",
            "\n",
            "\n",
            "Topic #68: theater cbi alexander\n",
            "['hump', 'book', 'theater', 'cbi', 'alexander']\n",
            "\n",
            "\n",
            "Topic #69: deposit customer paytm\n",
            "['rbi', 'payment', 'deposit', 'customer', 'paytm']\n",
            "\n",
            "\n",
            "Topic #70: deliver populist electoral\n",
            "['blow', 'crack', 'deliver', 'populist', 'electoral']\n",
            "\n",
            "\n",
            "Topic #71: gantz netanyahu hostage\n",
            "['enclave', 'cabinet', 'gantz', 'netanyahu', 'hostage']\n",
            "\n",
            "\n",
            "Topic #72: brasil una para\n",
            "['zuma', 'litio', 'brasil', 'una', 'para']\n",
            "\n",
            "\n",
            "Topic #73: transaction payment upi\n",
            "['agarwal', 'epayments', 'transaction', 'payment', 'upi']\n",
            "\n",
            "\n",
            "Topic #74: mukhija shoe pixel\n",
            "['creator', 'chennai', 'mukhija', 'shoe', 'pixel']\n",
            "\n",
            "\n",
            "Topic #75: enough migrant farmer\n",
            "['tiktok', 'hand', 'enough', 'migrant', 'farmer']\n",
            "\n",
            "\n",
            "Topic #76: madras gmt zone\n",
            "['northeast', 'gordon', 'madras', 'gmt', 'zone']\n",
            "\n",
            "\n",
            "Topic #77: gulf petition kuwait\n",
            "['door', 'hasina', 'gulf', 'petition', 'kuwait']\n",
            "\n",
            "\n",
            "Topic #78: kidwai forest elephant\n",
            "['yadav', 'bose', 'kidwai', 'forest', 'elephant']\n",
            "\n",
            "\n",
            "Topic #79: favorite fascist zuma\n",
            "['favored', 'favoring', 'favorite', 'fascist', 'zuma']\n",
            "\n",
            "\n",
            "Topic #80: favorite fascist zuma\n",
            "['favored', 'favoring', 'favorite', 'fascist', 'zuma']\n",
            "\n",
            "\n",
            "Topic #81: wicket ball usa\n",
            "['bowler', 'batter', 'wicket', 'ball', 'usa']\n",
            "\n",
            "\n",
            "Topic #82: sectarian tripathi verma\n",
            "['saxena', 'businessmen', 'sectarian', 'tripathi', 'verma']\n",
            "\n",
            "\n",
            "Topic #83: favorite fascist zuma\n",
            "['favored', 'favoring', 'favorite', 'fascist', 'zuma']\n",
            "\n",
            "\n",
            "Topic #84: devoted shake aligarh\n",
            "['broker', 'chant', 'devoted', 'shake', 'aligarh']\n",
            "\n",
            "\n",
            "Topic #85: francisco cornell netravalkar\n",
            "['graduating', 'club', 'francisco', 'cornell', 'netravalkar']\n",
            "\n",
            "\n",
            "Topic #86: heat state mr\n",
            "['said', 'people', 'heat', 'state', 'mr']\n",
            "\n",
            "\n",
            "Topic #87: buddhist citizenship dalit\n",
            "['jains', 'joy', 'buddhist', 'citizenship', 'dalit']\n",
            "\n",
            "\n",
            "Topic #88: political congress say\n",
            "['woman', 'water', 'political', 'congress', 'say']\n",
            "\n",
            "\n",
            "Topic #89: smartphones tortured google\n",
            "['foxconn', 'uncle', 'smartphones', 'tortured', 'google']\n",
            "\n",
            "\n",
            "Topic #90: resilience sewa insurance\n",
            "['agriculture', 'payment', 'resilience', 'sewa', 'insurance']\n",
            "\n",
            "\n",
            "Topic #91: oxygen newborn tragedy\n",
            "['noc', 'cylinder', 'oxygen', 'newborn', 'tragedy']\n",
            "\n",
            "\n",
            "Topic #92: nurse award kapadia\n",
            "['prabha', 'knowing', 'nurse', 'award', 'kapadia']\n",
            "\n",
            "\n",
            "Topic #93: accommodate humbler consensual\n",
            "['singleparty', 'consultative', 'accommodate', 'humbler', 'consensual']\n",
            "\n",
            "\n",
            "Topic #94: visa dia musk\n",
            "['brazil', 'milei', 'visa', 'dia', 'musk']\n",
            "\n",
            "\n",
            "Topic #95: pirate chain navy\n",
            "['diversify', 'supply', 'pirate', 'chain', 'navy']\n",
            "\n",
            "\n",
            "Topic #96: garlic asafoetida hing\n",
            "['talwar', 'flavor', 'garlic', 'asafoetida', 'hing']\n",
            "\n",
            "\n",
            "Topic #97: poonawala single walkar\n",
            "['choosing', 'intimate', 'poonawala', 'single', 'walkar']\n",
            "\n",
            "\n",
            "Topic #98: opposition hindu muslim\n",
            "['party', 'gandhi', 'opposition', 'hindu', 'muslim']\n",
            "\n",
            "\n",
            "Topic #99: favorite fascist zuma\n",
            "['favored', 'favoring', 'favorite', 'fascist', 'zuma']\n",
            "\n",
            "\n"
          ]
        }
      ]
    },
    {
      "cell_type": "code",
      "source": [
        "num_topics = 150  # Adjust num_topics based on domain and desired granularity\n",
        "svd = TruncatedSVD(n_components=num_topics, random_state=42)\n",
        "topic_distributions = svd.fit_transform(features)"
      ],
      "metadata": {
        "id": "uo-3rrw7yHx2"
      },
      "execution_count": 34,
      "outputs": []
    },
    {
      "cell_type": "code",
      "source": [
        "ward_clusterer = AgglomerativeClustering(n_clusters=3, linkage='ward')\n",
        "ward_clusterer.fit(topic_distributions)  # Use fit for training\n",
        "clusters = ward_clusterer.labels_ # Use predict for assigning labels"
      ],
      "metadata": {
        "id": "E6E0Z_rOyS8F"
      },
      "execution_count": 35,
      "outputs": []
    },
    {
      "cell_type": "code",
      "source": [
        "# KMeans\n",
        "\n",
        "kmeans = KMeans(n_clusters=2, random_state=42)  # Adjust n_clusters as needed\n",
        "kmeans.fit(topic_distributions)\n",
        "clusters = kmeans.predict(topic_distributions)\n"
      ],
      "metadata": {
        "colab": {
          "base_uri": "https://localhost:8080/"
        },
        "id": "lTXZeVgFzWaw",
        "outputId": "ebaa30d4-002f-448c-e4e4-94da4f2f729a"
      },
      "execution_count": 40,
      "outputs": [
        {
          "output_type": "stream",
          "name": "stderr",
          "text": [
            "/usr/local/lib/python3.10/dist-packages/sklearn/cluster/_kmeans.py:870: FutureWarning: The default value of `n_init` will change from 10 to 'auto' in 1.4. Set the value of `n_init` explicitly to suppress the warning\n",
            "  warnings.warn(\n"
          ]
        }
      ]
    },
    {
      "cell_type": "code",
      "source": [
        "plt.figure(figsize=(8, 6))\n",
        "plt.scatter(topic_distributions[:, 0], topic_distributions[:, 1], c=clusters)  # Adjust indexing for your data dimensions\n",
        "plt.title('Topic Distributions - KMeans Clusters')\n",
        "plt.xlabel('Component 1')\n",
        "plt.ylabel('Component 2')  # Adjust labels based on your data\n",
        "plt.grid(True)\n",
        "plt.show()"
      ],
      "metadata": {
        "colab": {
          "base_uri": "https://localhost:8080/",
          "height": 564
        },
        "id": "vuweTUyRyLzo",
        "outputId": "f3162131-f173-46da-e499-97fbd7b8edad"
      },
      "execution_count": 56,
      "outputs": [
        {
          "output_type": "display_data",
          "data": {
            "text/plain": [
              "<Figure size 800x600 with 1 Axes>"
            ],
            "image/png": "[encoded data removed]"
          },
          "metadata": {}
        }
      ]
    },
    {
      "cell_type": "code",
      "source": [
        "# print number of each cluster\n",
        "cluster_counts = Counter(clusters)\n",
        "print(cluster_counts)"
      ],
      "metadata": {
        "colab": {
          "base_uri": "https://localhost:8080/"
        },
        "id": "tVkGyYrv1Fyf",
        "outputId": "f802b1dd-9d9c-4731-bc7d-23aa42fc2033"
      },
      "execution_count": 62,
      "outputs": [
        {
          "output_type": "stream",
          "name": "stdout",
          "text": [
            "Counter({1: 131, 0: 67})\n"
          ]
        }
      ]
    },
    {
      "cell_type": "code",
      "source": [
        "# print article and cluster corresponding\n",
        "for i in range(len(clusters)):\n",
        "  print(f\"Article {headings[i]}: Cluster {clusters[i]}\")"
      ],
      "metadata": {
        "colab": {
          "base_uri": "https://localhost:8080/"
        },
        "collapsed": true,
        "id": "1FGW--8c1LEi",
        "outputId": "e069b252-582d-4929-d569-b6619b77d687"
      },
      "execution_count": 63,
      "outputs": [
        {
          "output_type": "stream",
          "name": "stdout",
          "text": [
            "Article Man Accused in Plot to Assassinate Sikh Separatist Pleads Not Guilty: Cluster 0\n",
            "Article Fire in Kuwait Worker Housing Leaves at Least 49 Dead: Cluster 1\n",
            "Article Train Crash in India Leaves at Least 8 Dead and Dozens Injured: Cluster 1\n",
            "Article G7 Leaders, Expanding the Circle, Shift Focus to Migration and the South: Cluster 1\n",
            "Article At the Ambani Wedding Celebrations, a Dazzling Display of Jewels: Cluster 1\n",
            "Article What Modi’s Dwindling Support Says About Democracy Worldwide: Cluster 1\n",
            "Article India-Pakistan Cricket World Cup Match Brings 34,000 Fans to Long Island: Cluster 1\n",
            "Article Modi, Striking a Modest Tone, Is Sworn In for a Third Term: Cluster 0\n",
            "Article India’s Modi, Humbled by Voters, Faces Potent Economic Struggles: Cluster 0\n",
            "Article The World Heads to the Polls: Cluster 0\n",
            "Article Narendra Modi’s India: Cluster 1\n",
            "Article In Global Elections, Strongmen Are Taken Down a Notch: Cluster 0\n",
            "Article Rahul Gandhi, Long on the Ropes, Looks Set for an Unexpected Comeback: Cluster 0\n",
            "Article Narendra Modi Fell to Earth After Making It All About Himself: Cluster 0\n",
            "Article India Keeps Its Glorious, Messy Tradition Alive: Cluster 0\n",
            "Article The New Kingmakers Who Could Make or Break Modi’s Government: Cluster 0\n",
            "Article Modi se reelige en India, pero pierde mayoría parlamentaria: 4 claves de las elecciones: Cluster 1\n",
            "Article Modi Struggles to Stay on Top: 4 Takeaways From India’s Election: Cluster 0\n",
            "Article Needing Help to Stay in Power, Modi Loses His Aura of Invincibility: Cluster 0\n",
            "Article Modi Will Feel the Heat in a Third Term. And Not Just Politically.: Cluster 1\n",
            "Article India’s Stock Market Tumbles on Close-Run Election Result: Cluster 0\n",
            "Article Early Election Results Suggest Sharp Turnaround for Indian National Congress: Cluster 0\n",
            "Article Biden’s Asylum Order, and India’s Surprisingly Close Election: Cluster 1\n",
            "Article Modi’s Party May Need Partners to Form a Government: Cluster 0\n",
            "Article How Modi Capitalized on India’s Economic Rise: Cluster 0\n",
            "Article The Heat Wave Scenario That Keeps Climate Scientists Up at Night: Cluster 1\n",
            "Article As Voting Ends in India, Modi Awaits a Verdict on His 10 Years in Power: Cluster 0\n",
            "Article A Small Army Combating a Flood of Deepfakes in India’s Election: Cluster 1\n",
            "Article Birubala Rabha, Who Battled Witch Hunting in India, Dies at 75: Cluster 1\n",
            "Article Overlooked No More: Hansa Mehta, Who Fought for Women’s Equality in India and Beyond: Cluster 1\n",
            "Article A Matter of Survival as South Asia’s Heat Wave Reaches 127 Degrees: Cluster 1\n",
            "Article Wall Street Lands on India, Looking for Profits It Can’t Find in China: Cluster 1\n",
            "Article Millions of Indians Living Abroad Have a Say in the Election, Even if They Can’t Vote: Cluster 0\n",
            "Article New Delhi Sweats Through Its Hottest Recorded Day: Cluster 1\n",
            "Article India y Bangladés: el ciclón Remal arrasa y deja al menos 23 muertos: Cluster 1\n",
            "Article Cyclone Remal Tears Through India and Bangladesh, Killing at Least 23: Cluster 1\n",
            "Article Leaflet by Leaflet, a Few Aging Activists Fight India’s Tide of Bigotry: Cluster 0\n",
            "Article Two Deadly Fires in Rapid Succession Expose India’s Gaps in Safety: Cluster 1\n",
            "Article I’m an Indian Muslim, and I’m Scared to Say So: Cluster 0\n",
            "Article Free Food? Modi Makes Sure Every Indian Knows Whom to Thank for It.: Cluster 0\n",
            "Article Is Modi Worried? India’s Long-Deflated Opposition Finds Some Momentum.: Cluster 0\n",
            "Article Strangers in Their Own Land: Being Muslim in Modi’s India: Cluster 0\n",
            "Article La diplomacia de Musk: cautivar a la derecha mundial para beneficiarse: Cluster 1\n",
            "Article The Scrappy World War II Pilots Who Took Flight for a Perilous Mission: Cluster 1\n",
            "Article 14 Killed as Storm Topples Huge Billboard in India: Cluster 1\n",
            "Article Elon Musk’s Diplomacy: Woo Right-Wing World Leaders. Then Benefit.: Cluster 0\n",
            "Article At Cannes, Indian Filmmakers Show There Is More Than Just Bollywood: Cluster 1\n",
            "Article One Strongman, One Billion Voters, and the Future of India: Cluster 0\n",
            "Article Canadian Arrests Highlight Alleged Gang Role in India’s Intelligence Operations: Cluster 1\n",
            "Article Biden Calls Japan and India ‘Xenophobic’ in Defending U.S. Immigration: Cluster 1\n",
            "Article When My Mom Got Sick, This TV Show Kept Us Going: Cluster 1\n",
            "Article India’s Master of Nostalgia Takes His Sweeping Vision to Netflix: Cluster 1\n",
            "Article Australian Journalist Says She Was Pushed Out of India: Cluster 1\n",
            "Article Why Did Modi Call India’s Muslims ‘Infiltrators’? Because He Could.: Cluster 0\n",
            "Article Modi Calls Muslims ‘Infiltrators’ Who Would Take India’s Wealth: Cluster 0\n",
            "Article ‘Discomfort May Increase’: Asia’s Heat Wave Scorches Hundreds of Millions: Cluster 1\n",
            "Article India to Redo Voting at Polling Stations Hit by Violence: Cluster 1\n",
            "Article Time Is Running Out for Rahul Gandhi’s Vision for India: Cluster 0\n",
            "Article Israel Strikes Iran, and the Trump Trial Gets a Jury: Cluster 1\n",
            "Article Why India’s Opposition Can’t Get It Together: Cluster 0\n",
            "Article Modi’s Power Keeps Growing, and India Looks Sure to Give Him More: Cluster 0\n",
            "Article Modi’s Temple of Lies: Cluster 0\n",
            "Article How A.I. Tools Could Change India’s Elections: Cluster 0\n",
            "Article India's Priyanka Gandhi to finally make electoral debut: Cluster 0\n",
            "Article Will India's Booker Prize-winning author face jail for 14-year-old remark?: Cluster 1\n",
            "Article Indian accused of plotting US Sikh murder pleads not guilty: Cluster 0\n",
            "Article Nine killed in India train crash: Cluster 1\n",
            "Article Susannah's grandad ran Bengal when famine killed millions: Cluster 1\n",
            "Article India brings back bodies of 45 workers from Kuwait: Cluster 1\n",
            "Article Can indie games inspire a creative boom from Indian developers?: Cluster 1\n",
            "Article Forty Indians among 50 dead in Kuwait block fire: Cluster 1\n",
            "Article The US cricket star who once played for India: Cluster 1\n",
            "Article Two Indians recruited by Russia killed in Ukraine: Cluster 1\n",
            "Article Nine Hindu pilgrims killed in bus attack in India's Jammu: Cluster 1\n",
            "Article Narendra Modi sworn in for third term at grand ceremony in Delhi: Cluster 0\n",
            "Article Will coalition turn domineering Modi into a humbler leader?: Cluster 0\n",
            "Article The temple storming still affecting Sikhs today: Cluster 1\n",
            "Article India opposition accuses Modi of 'stock market scam': Cluster 0\n",
            "Article India’s opposition looked down and out – now they’re back: Cluster 0\n",
            "Article Full report: Stunning blow for Modi as alliance heads for reduced majority: Cluster 0\n",
            "Article What worked for India's Modi - and what didn’t?: Cluster 1\n",
            "Article BBC India reporters on why some voters said no to Modi: Cluster 0\n",
            "Article Heat kills more than 50 people in India in three days: Cluster 1\n",
            "Article India's Modi could win third term, polls predict: Cluster 0\n",
            "Article Heat kills at least 15 in India as temperatures near 50C: Cluster 1\n",
            "Article India MP arrested in sex-abuse case upon return to country: Cluster 1\n",
            "Article The Indian women trumpeting their caste on Instagram: Cluster 1\n",
            "Article Varanasi: The ancient city at the heart of India’s election: Cluster 1\n",
            "Article Absconding India MP to return to face sex abuse cases: Cluster 0\n",
            "Article The Indian state holding the key to PM Modi's re-election: Cluster 0\n",
            "Article Tackling water shortages with 'Star Wars' tech: Cluster 1\n",
            "Article At least 16 dead as cyclone hits Bangladesh and India: Cluster 1\n",
            "Article Delhi hospital where babies died lacked licence, fire exits: Cluster 1\n",
            "Article LGBTQ Indians are more accepted than ever - but politics hasn't caught up: Cluster 1\n",
            "Article Newborn babies die after fire at Delhi hospital: Cluster 1\n",
            "Article Fighting for votes in 'the world's biggest data mine': Cluster 0\n",
            "Article Watch: Smoke and flames at deadly India arcade fire: Cluster 1\n",
            "Article An Indian tale of love and sisterhood unfolds at Cannes: Cluster 1\n",
            "Article In pictures: North India boils as temperatures near 50C: Cluster 1\n",
            "Article Google to make Pixel phones and drones in India: Cluster 1\n",
            "Article Indian activist Grace Banu wants more rights for the transgender community: Cluster 1\n",
            "Article Trans politician Apsara Reddy on LGBTQ representation in Indian politics: Cluster 1\n",
            "Article Czech court okays extradition of US murder plot accused: Cluster 0\n",
            "Article The many colours of India’s election campaigns: Cluster 1\n",
            "Article These elephants are dying on rail tracks - can AI save them?: Cluster 1\n",
            "Article Delhi sizzles as temperatures cross 45C: Cluster 1\n",
            "Article Modi holds roadshow in Varanasi: Cluster 1\n",
            "Article ‘My body can’t take it’: Brutal nighttime temperatures give Delhi residents little respite from India’s searing heatwave: Cluster 1\n",
            "Article June 17, 2024 - Israel-Gaza news: Cluster 1\n",
            "Article Train collision kills at least nine in eastern India, police say: Cluster 1\n",
            "Article Against the odds, the USA cricket team has captured hearts and minds with historic run at Men’s T20 Cricket World Cup: Cluster 1\n",
            "Article USA makes history in advancing to next stage of men’s T20 Cricket World Cup after game against Ireland is abandoned: Cluster 1\n",
            "Article T20 Cricket World Cup: India just edges past USA despite host nation’s valiant effort: Cluster 1\n",
            "Article It’s so hot in India, an insurer is helping thousands of women buy food: Cluster 1\n",
            "Article Pakistan succumbs to heartbreaking defeat against archrival India in T20 Cricket World Cup: Cluster 1\n",
            "Article June 9, 2024 Israel-Hamas war: Cluster 1\n",
            "Article India’s Modi and his Hindu-nationalist party have another five years in power. What does it mean for the world?: Cluster 0\n",
            "Article USA orchestrates shock defeat of Pakistan at Men’s T20 Cricket World Cup: Cluster 1\n",
            "Article Opinion: Will America finally warm to the ‘most subtle and sophisticated’ sport?: Cluster 1\n",
            "Article India wants to be the next China. Half of its population holds the key: Cluster 1\n",
            "Article Opinion: For Indian Muslims like me, an unshakable feeling of doom: Cluster 0\n",
            "Article ‘Still a strong story.’ Why India’s election shock won’t derail its economic boom: Cluster 0\n",
            "Article Modi declares victory in India election but party faces shock losses and will need coalition: Cluster 0\n",
            "Article Indian stocks have worst day in 4 years as Modi’s hopes of a huge majority fade: Cluster 0\n",
            "Article Who will lead India? World’s largest nation begins a mammoth day of vote counting after weeks-long election: Cluster 0\n",
            "Article Dozens killed by extreme heat in India as polls close in world’s largest election: Cluster 1\n",
            "Article Indian stocks hit record highs as exit polls suggest big Modi win: Cluster 1\n",
            "Article Opinion: I was born into India’s lowest caste. But nothing will stop me from embracing my joy: Cluster 1\n",
            "Article 2024 men’s T20 World Cup: Boasting over a billion fans across the world, cricket is set to enjoy ‘fiery vibes’ in New York: Cluster 1\n",
            "Article India’s scorching heat and lack of water leave Delhi’s poor to suffer worst of climate crisis: Cluster 1\n",
            "Article India records bumper economic growth as election draws to a close: Cluster 1\n",
            "Article Indian airline gives female travelers option to choose seats next to other women: Cluster 1\n",
            "Article Modi heads for two days of island meditation as Indian election nears end: Cluster 0\n",
            "Article Indian capital of Delhi breaks all-time heat record, as authorities impose water rationing: Cluster 1\n",
            "Article More than 50 killed by Cyclone Remal in India and Bangladesh: Cluster 1\n",
            "Article May 28, 2024 - Israel-Hamas war: Cluster 1\n",
            "Article India’s election campaign turns negative as Modi and ruling party embrace Islamophobic rhetoric: Cluster 0\n",
            "Article Modi’s latest campaign message to supporters: ‘God has sent me’: Cluster 0\n",
            "Article India celebrates historic Grand Prix win at the Cannes Film Festival: Cluster 1\n",
            "Article Fire at gaming arcade kills at least 20 people in India: Cluster 1\n",
            "Article India’s ‘King of Bollywood’ is ‘doing well’ after heatstroke hospitalization reports: Cluster 1\n",
            "Article May 22, 2024 Israel-Hamas war: Cluster 1\n",
            "Article Is India’s free press not so free after a decade of Modi?: Cluster 1\n",
            "Article Bollywood and billionaires: India’s rich and famous cast their vote in the world’s largest election: Cluster 1\n",
            "Article May 20, 2024 Israel-Hamas war: Cluster 1\n",
            "Article Iran’s President Raisi killed in helicopter crash: Cluster 1\n",
            "Article May 19, 2024 helicopter crash involving Iranian president: Cluster 1\n",
            "Article Wealth gap on voters’ minds as India’s richest city gears up for the election: Cluster 0\n",
            "Article In the world’s biggest election, millions of migrants are unable to vote: Cluster 1\n",
            "Article ‘The next decade belongs to India’: Meet the winners of rising power’s economic boom: Cluster 1\n",
            "Article Asia’s most powerful billionaires are getting drawn into the world’s biggest election: Cluster 1\n",
            "Article How India got stuck in its own unusual time zone: Cluster 1\n",
            "Article Billionaires alone won’t turn Narendra Modi’s India into a rich country: Cluster 1\n",
            "Article Campaign video targeting Muslims faces India police probe as critics accuse Modi’s party of divisive election tactics: Cluster 0\n",
            "Article ‘Bound to secrecy’: The indelible ink behind the world’s biggest election: Cluster 1\n",
            "Article ‘No one is bigger than him’: On the campaign trail with India’s popular yet divisive leader: Cluster 0\n",
            "Article Rising Hindu nationalism leaves Muslims fearful in India’s holy city: Cluster 0\n",
            "Article Sari shops and street food stalls: How e-payments have taken over India: Cluster 1\n",
            "Article A coal billionaire is building the world’s biggest clean energy plant and it’s five times the size of Paris: Cluster 1\n",
            "Article Indian voters battle extreme temperatures as intense heat wave hits region: Cluster 1\n",
            "Article ‘Cabs to get into space’: How this Indian startup wants to revolutionize satellite space travel: Cluster 1\n",
            "Article New Delhi chokes as trash mountain fire spreads hazardous fumes: Cluster 1\n",
            "Article Modi’s Muslim remarks spark ‘hate speech’ accusations as India’s mammoth election deepens divides: Cluster 0\n",
            "Article Opinion: The Indian election issue that will impact the world (and no one is talking about): Cluster 1\n",
            "Article India heads to the polls in world’s biggest election: Cluster 0\n",
            "Article Can India become an economic superpower? Here’s what the data says: Cluster 1\n",
            "Article India election: A visual guide to voting in the world’s largest democracy: Cluster 0\n",
            "Article Cash, drugs and booze among record election bribes seized by India: Cluster 0\n",
            "Article India summons US State Department official over call for fair legal treatment of arrested opposition leader: Cluster 1\n",
            "Article Court ruling effectively outlaws Islamic schools in India’s most populous state: Cluster 0\n",
            "Article A high-altitude tunnel is latest flashpoint in India-China border tensions: Cluster 1\n",
            "Article Pirate ship capture showcases India’s world-class special forces, analysts say: Cluster 1\n",
            "Article Iga Świątek wins second Indian Wells title with dominant victory over Maria Sakkari: Cluster 1\n",
            "Article India investigates alleged Hindu nationalist attack on foreign students offering Ramadan prayers: Cluster 1\n",
            "Article Date set for largest democratic election in human history: Cluster 0\n",
            "Article What happened when the world’s most populous nation turned off TikTok: Cluster 1\n",
            "Article India’s ‘Silicon Valley’ is running dry as residents urged to take fewer showers and use disposable cutlery: Cluster 1\n",
            "Article India moves to implement controversial citizenship bill that excludes Muslims: Cluster 0\n",
            "Article Maldives signs China military pact in further shift away from India: Cluster 1\n",
            "Article Seven men arrested in India for alleged gang-rape of tourist: Cluster 1\n",
            "Article Rihanna, Mark Zuckerberg and Ivanka Trump among bevy of stars at Indian billionaire heir’s pre-wedding bash: Cluster 1\n",
            "Article Angry farmers once forced India’s hardline leader into a rare retreat. As the election looms, they’re back: Cluster 1\n",
            "Article ‘India has arrived.’ Why Modi’s economy offers a real alternative to China: Cluster 1\n",
            "Article ‘Erasing a part of history’ – What a double mosque demolition tells us about India ahead of crucial election: Cluster 0\n",
            "Article Paytm, once India’s hottest startup, sees its stock fall 80% since market debut: Cluster 1\n",
            "Article Opinion: India’s ‘murder most foul’ has a chilling subtext: Cluster 1\n",
            "Article Photos: India’s divisive new temple saw half a million visitors on its first day open to the public: Cluster 1\n",
            "Article Modi hails a new ‘divine India’ as he inaugurates controversial Hindu temple ahead of nationwide elections: Cluster 0\n",
            "Article Sony’s $10 billion India media deal ends in ugly breakup: Cluster 1\n",
            "Article Netflix removes Indian movie about Brahmin chef cooking meat after backlash by right-wing Hindu groups: Cluster 1\n",
            "Article Devil’s dung or dinner delight? The story behind hing, one of India’s most divisive ingredients: Cluster 1\n",
            "Article Why Modi’s beach shots sparked calls for an Indian boycott of Maldives tourism: Cluster 1\n",
            "Article India’s Supreme Court orders 11 men convicted of murder and gang rape to return to jail after early release: Cluster 1\n",
            "Article Extreme heat is pushing India to the brink of ‘survivability.’ One obvious solution is also a big part of the problem: Cluster 1\n",
            "Article Indian billionaire Gautam Adani says ‘truth has prevailed’ after top court orders regulators to wrap up probe: Cluster 1\n",
            "Article More than a billion people will head to the polls across South Asia in 2024: Cluster 0\n",
            "Article December 26, 2023 Israel-Hamas war: Cluster 1\n",
            "Article Top Indian wrestler quits after federation elects ally of controversial former chief: Cluster 1\n"
          ]
        }
      ]
    },
    {
      "cell_type": "code",
      "source": [
        "def get_sentiment_score(text):\n",
        "  \"\"\"\n",
        "  This function analyzes the sentiment of a text string and returns a sentiment score.\n",
        "\n",
        "  Args:\n",
        "      text: The text string to analyze sentiment for.\n",
        "\n",
        "  Returns:\n",
        "      A float between -1 (negative) and 1 (positive) representing the sentiment score of the text.\n",
        "  \"\"\"\n",
        "  sentiment = TextBlob(text).sentiment.polarity  # Uses TextBlob sentiment analysis\n",
        "  return sentiment\n"
      ],
      "metadata": {
        "id": "xxIUJ7692n3r"
      },
      "execution_count": 50,
      "outputs": []
    },
    {
      "cell_type": "code",
      "source": [
        "from tqdm import tqdm  # tqdm for progress bar\n",
        "\n",
        "sentiment_scores = []\n",
        "for article in tqdm(texts):\n",
        "  sentiment_score = get_sentiment_score(article)  # Assuming you have the get_sentiment_score function\n",
        "  sentiment_scores.append(sentiment_score)\n"
      ],
      "metadata": {
        "colab": {
          "base_uri": "https://localhost:8080/"
        },
        "id": "L5Q4kW7W2qdv",
        "outputId": "0ebab2ef-9364-4425-d7b3-e64e592f6cc2"
      },
      "execution_count": 51,
      "outputs": [
        {
          "output_type": "stream",
          "name": "stderr",
          "text": [
            "100%|██████████| 198/198 [00:03<00:00, 53.63it/s]\n"
          ]
        }
      ]
    },
    {
      "cell_type": "code",
      "source": [
        "sentiment_scores_array = np.array(sentiment_scores)\n",
        "combined_features = np.concatenate((topic_distributions, sentiment_scores_array.reshape(-1, 1)), axis=1)\n"
      ],
      "metadata": {
        "id": "gG8QhyDd2yMO"
      },
      "execution_count": 54,
      "outputs": []
    },
    {
      "cell_type": "code",
      "source": [
        "# Specify the number of desired clusters\n",
        "num_clusters = 2\n",
        "\n",
        "# Create a KMeans model with the specified number of clusters and a random state\n",
        "kmeans = KMeans(n_clusters=num_clusters, random_state=42)\n",
        "\n",
        "# Fit the KMeans model to the combined features\n",
        "kmeans.fit(combined_features)\n",
        "\n",
        "# Predict the cluster labels for each data point\n",
        "clusters = kmeans.predict(combined_features)"
      ],
      "metadata": {
        "colab": {
          "base_uri": "https://localhost:8080/"
        },
        "id": "zdA3RVSN3H2f",
        "outputId": "c029888f-d502-479f-d1ce-dafd32ab220c"
      },
      "execution_count": 60,
      "outputs": [
        {
          "output_type": "stream",
          "name": "stderr",
          "text": [
            "/usr/local/lib/python3.10/dist-packages/sklearn/cluster/_kmeans.py:870: FutureWarning: The default value of `n_init` will change from 10 to 'auto' in 1.4. Set the value of `n_init` explicitly to suppress the warning\n",
            "  warnings.warn(\n"
          ]
        }
      ]
    },
    {
      "cell_type": "code",
      "source": [
        "# Assuming 'combined_features' has two dimensions (features for x and y axes)\n",
        "plt.scatter(combined_features[:, 0], combined_features[:, 1], c=clusters)  # Color by cluster label\n",
        "\n",
        "# Add labels and title\n",
        "plt.xlabel(\"Feature 1\")\n",
        "plt.ylabel(\"Feature 2\")\n",
        "plt.title(\"2D Clustering of Articles (KMeans)\")\n",
        "\n",
        "# Optional: Add centroids (cluster centers) if available from the KMeans model\n",
        "# centroids = kmeans.cluster_centers_  # Assuming centroids are accessible\n",
        "# plt.scatter(centroids[:, 0], centroids[:, 1], marker='o', s=100, c='black', label='Centroids')  # Plot centroids as black circles\n",
        "\n",
        "plt.show()\n"
      ],
      "metadata": {
        "colab": {
          "base_uri": "https://localhost:8080/",
          "height": 472
        },
        "id": "2UkF-0TC3Rrq",
        "outputId": "367ef3b8-fcae-4ae5-eae6-8157979f43c3"
      },
      "execution_count": 64,
      "outputs": [
        {
          "output_type": "display_data",
          "data": {
            "text/plain": [
              "<Figure size 640x480 with 1 Axes>"
            ],
            "image/png": "[encoded data removed]"
          },
          "metadata": {}
        }
      ]
    },
    {
      "cell_type": "code",
      "source": [
        "from nltk.tokenize import word_tokenize"
      ],
      "metadata": {
        "id": "I2VnqrhP_mF5"
      },
      "execution_count": 77,
      "outputs": []
    },
    {
      "cell_type": "code",
      "source": [
        "def extract_lexicon_features(text, sentiment_analyzer):\n",
        "    \"\"\"\n",
        "    Extracts sentiment scores from a sentiment lexicon (VADER in this case).\n",
        "    \"\"\"\n",
        "    scores = sentiment_analyzer.polarity_scores(text)\n",
        "    return scores['compound'], scores['pos'], scores['neg'], scores['neu']"
      ],
      "metadata": {
        "id": "bTaEcuUS9ZTr"
      },
      "execution_count": 65,
      "outputs": []
    },
    {
      "cell_type": "code",
      "source": [
        "def extract_linguistic_features(text):\n",
        "    \"\"\"\n",
        "    Extracts linguistic features:\n",
        "    - Number of words\n",
        "    - Average word length\n",
        "    - Proportion of adverbs, adjectives, and nouns\n",
        "    \"\"\"\n",
        "    words = word_tokenize(text)\n",
        "    num_words = len(words)\n",
        "    avg_word_length = np.mean([len(word) for word in words])\n",
        "\n",
        "    pos_tags = nltk.pos_tag(words)\n",
        "    num_adverbs = sum(1 for tag in pos_tags if tag[1] == 'RB' or tag[1] == 'RBR' or tag[1] == 'RBS')\n",
        "    num_adjectives = sum(1 for tag in pos_tags if tag[1] == 'JJ' or tag[1] == 'JJR' or tag[1] == 'JJS')\n",
        "    num_nouns = sum(1 for tag in pos_tags if tag[1] == 'NN' or tag[1] == 'NNS' or tag[1] == 'NNP' or tag[1] == 'NNPS')\n",
        "    prop_adverbs = num_adverbs / num_words if num_words > 0 else 0\n",
        "    prop_adjectives = num_adjectives / num_words if num_words > 0 else 0\n",
        "    prop_nouns = num_nouns / num_words if num_words > 0 else 0\n",
        "\n",
        "    return num_words, avg_word_length, prop_adverbs, prop_adjectives, prop_nouns"
      ],
      "metadata": {
        "id": "MieeHgsg9Z3X"
      },
      "execution_count": 66,
      "outputs": []
    },
    {
      "cell_type": "code",
      "source": [
        "def extract_statistical_features(text, vectorizer):\n",
        "    \"\"\"\n",
        "    Extracts statistical features:\n",
        "    - Term frequency (TF)\n",
        "    \"\"\"\n",
        "    tfidf_matrix = vectorizer.transform([text])\n",
        "    tf_vector = tfidf_matrix.toarray()[0]\n",
        "    return tf_vector"
      ],
      "metadata": {
        "id": "jQCAkvS3-SES"
      },
      "execution_count": 67,
      "outputs": []
    },
    {
      "cell_type": "code",
      "source": [
        "def extract_topic_features(text, dictionary, lda_model):\n",
        "    \"\"\"\n",
        "    Extracts topic features using LDA.\n",
        "    \"\"\"\n",
        "    bow = dictionary.doc2bow(text.split())\n",
        "    topic_dist = lda_model[bow]  # Get topic distribution for the document\n",
        "    topic_props = np.array([v[1] for v in topic_dist])  # Extract topic proportions\n",
        "    return topic_props\n"
      ],
      "metadata": {
        "id": "CF4Ku0xM-YQ3"
      },
      "execution_count": 68,
      "outputs": []
    },
    {
      "cell_type": "code",
      "source": [
        "sentiment_analyzer = SentimentIntensityAnalyzer()\n",
        "vectorizer = TfidfVectorizer()\n",
        "dictionary = corpora.Dictionary(texts.apply(lambda x: x.split()))\n",
        "corpus = [dictionary.doc2bow(text.split()) for text in texts]\n",
        "lda_model = models.LdaModel(corpus, id2word=dictionary, num_topics=5)  # Adjust num_topics as needed"
      ],
      "metadata": {
        "colab": {
          "base_uri": "https://localhost:8080/"
        },
        "id": "o1pn4Ppl-ZW1",
        "outputId": "10e13f29-83f0-40da-b726-46297df571ca"
      },
      "execution_count": 71,
      "outputs": [
        {
          "output_type": "stream",
          "name": "stderr",
          "text": [
            "WARNING:gensim.models.ldamodel:too few updates, training might not converge; consider increasing the number of passes or iterations to improve accuracy\n"
          ]
        }
      ]
    },
    {
      "cell_type": "code",
      "source": [
        "lexicon_features = []\n",
        "linguistic_features = []\n",
        "statistical_features = []\n",
        "topic_features = []"
      ],
      "metadata": {
        "id": "En1jqD_7_EMm"
      },
      "execution_count": 72,
      "outputs": []
    },
    {
      "cell_type": "code",
      "source": [
        "for text in texts:\n",
        "        # Preprocess text\n",
        "\n",
        "\n",
        "        # Extract lexicon features\n",
        "        compound_score, pos_score, neg_score, neu_score = extract_lexicon_features(text, sentiment_analyzer)\n",
        "        lexicon_features.append([compound_score, pos_score, neg_score, neu_score])\n",
        "\n",
        "        # Extract linguistic features\n",
        "        num_words, avg_word_length, prop_adverbs, prop_adjectives, prop_nouns = extract_linguistic_features(text)\n",
        "        linguistic_features.append([num_words, avg_word_length, prop_adverbs, prop_adjectives, prop_nouns])\n",
        "        vectorizer.fit(texts)\n",
        "        # Extract statistical features\n",
        "        tf_vector = extract_statistical_features(text, vectorizer)\n",
        "        statistical_features.append(tf_vector)\n",
        "\n",
        "        # Extract topic features\n",
        "        topic_prop = extract_topic_features(text, dictionary, lda_model)\n",
        "        topic_features.append(topic_prop)\n",
        "\n",
        "\n",
        "    # Combine features\n",
        "lexicon_features = np.array(lexicon_features)\n",
        "linguistic_features = np.array(linguistic_features)\n",
        "statistical_features = np.array(statistical_features)\n",
        "topic_features = np.array(topic_features)\n",
        "print(lexicon_features.shape)\n",
        "print(linguistic_features.shape)\n",
        "print(statistical_features.shape)\n",
        "print(topic_features.shape)\n",
        "\n",
        "# features = np.concatenate((np.array(lexicon_features), np.array(linguistic_features), statistical_features, topic_features), axis=1)"
      ],
      "metadata": {
        "colab": {
          "base_uri": "https://localhost:8080/",
          "height": 211
        },
        "id": "kePyZbuT_LR1",
        "outputId": "0ad4e740-3a29-4eba-b09f-c2fa4b71f0c7"
      },
      "execution_count": 80,
      "outputs": [
        {
          "output_type": "error",
          "ename": "ValueError",
          "evalue": "setting an array element with a sequence. The requested array has an inhomogeneous shape after 1 dimensions. The detected shape was (396,) + inhomogeneous part.",
          "traceback": [
            "\u001b[0;31m---------------------------------------------------------------------------\u001b[0m",
            "\u001b[0;31mValueError\u001b[0m                                Traceback (most recent call last)",
            "\u001b[0;32m<ipython-input-80-b157ebef9bb8>\u001b[0m in \u001b[0;36m<cell line: 26>\u001b[0;34m()\u001b[0m\n\u001b[1;32m     24\u001b[0m \u001b[0mlinguistic_features\u001b[0m \u001b[0;34m=\u001b[0m \u001b[0mnp\u001b[0m\u001b[0;34m.\u001b[0m\u001b[0marray\u001b[0m\u001b[0;34m(\u001b[0m\u001b[0mlinguistic_features\u001b[0m\u001b[0;34m)\u001b[0m\u001b[0;34m\u001b[0m\u001b[0;34m\u001b[0m\u001b[0m\n\u001b[1;32m     25\u001b[0m \u001b[0mstatistical_features\u001b[0m \u001b[0;34m=\u001b[0m \u001b[0mnp\u001b[0m\u001b[0;34m.\u001b[0m\u001b[0marray\u001b[0m\u001b[0;34m(\u001b[0m\u001b[0mstatistical_features\u001b[0m\u001b[0;34m)\u001b[0m\u001b[0;34m\u001b[0m\u001b[0;34m\u001b[0m\u001b[0m\n\u001b[0;32m---> 26\u001b[0;31m \u001b[0mtopic_features\u001b[0m \u001b[0;34m=\u001b[0m \u001b[0mnp\u001b[0m\u001b[0;34m.\u001b[0m\u001b[0marray\u001b[0m\u001b[0;34m(\u001b[0m\u001b[0mtopic_features\u001b[0m\u001b[0;34m)\u001b[0m\u001b[0;34m\u001b[0m\u001b[0;34m\u001b[0m\u001b[0m\n\u001b[0m\u001b[1;32m     27\u001b[0m \u001b[0mprint\u001b[0m\u001b[0;34m(\u001b[0m\u001b[0mlexicon_features\u001b[0m\u001b[0;34m.\u001b[0m\u001b[0mshape\u001b[0m\u001b[0;34m)\u001b[0m\u001b[0;34m\u001b[0m\u001b[0;34m\u001b[0m\u001b[0m\n\u001b[1;32m     28\u001b[0m \u001b[0mprint\u001b[0m\u001b[0;34m(\u001b[0m\u001b[0mlinguistic_features\u001b[0m\u001b[0;34m.\u001b[0m\u001b[0mshape\u001b[0m\u001b[0;34m)\u001b[0m\u001b[0;34m\u001b[0m\u001b[0;34m\u001b[0m\u001b[0m\n",
            "\u001b[0;31mValueError\u001b[0m: setting an array element with a sequence. The requested array has an inhomogeneous shape after 1 dimensions. The detected shape was (396,) + inhomogeneous part."
          ]
        }
      ]
    }
  ]
}